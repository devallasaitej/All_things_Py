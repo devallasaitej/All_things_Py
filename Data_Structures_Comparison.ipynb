{
 "cells": [
  {
   "cell_type": "markdown",
   "metadata": {},
   "source": [
    "Lists Vs Tuple Vs Set Vs Dictionary"
   ]
  },
  {
   "cell_type": "code",
   "execution_count": null,
   "metadata": {},
   "outputs": [],
   "source": [
    "# List: Ordered, Mutable, allows duplicates, indexing, slicing\n",
    "# Tuple: Ordered, Immutable, allows duplicates, indexing, slicing, slightly faster than lists\n",
    "# Set: Unordered, mutable, only unique elements, no indexing, fast membership check - hashing\n",
    "# Dict: Unordered, mutable, key-val pairs, keys must be unique hashable"
   ]
  },
  {
   "cell_type": "markdown",
   "metadata": {},
   "source": [
    "Retrieval Methods"
   ]
  },
  {
   "cell_type": "code",
   "execution_count": 8,
   "metadata": {},
   "outputs": [
    {
     "name": "stdout",
     "output_type": "stream",
     "text": [
      "30\n",
      "True\n",
      "10\n",
      "20\n",
      "30\n",
      "40\n"
     ]
    }
   ],
   "source": [
    "# list\n",
    "my_list = [10, 20, 30, 40]\n",
    "\n",
    "# Indexing\n",
    "print(my_list[2])\n",
    "\n",
    "# Membership check\n",
    "print(20 in my_list)\n",
    "\n",
    "# Iteration\n",
    "for element in my_list:\n",
    "    print(element)"
   ]
  },
  {
   "cell_type": "code",
   "execution_count": 6,
   "metadata": {},
   "outputs": [
    {
     "name": "stdout",
     "output_type": "stream",
     "text": [
      "30\n",
      "True\n",
      "10\n",
      "20\n",
      "30\n",
      "40\n"
     ]
    }
   ],
   "source": [
    "# Tuple\n",
    "my_tuple = (10, 20, 30, 40)\n",
    "\n",
    "# Indexing\n",
    "print(my_tuple[2]) \n",
    "\n",
    "# Membership check\n",
    "print(20 in my_tuple)\n",
    "\n",
    "# Iteration\n",
    "for element in my_tuple:\n",
    "    print(element)\n"
   ]
  },
  {
   "cell_type": "code",
   "execution_count": 7,
   "metadata": {},
   "outputs": [
    {
     "name": "stdout",
     "output_type": "stream",
     "text": [
      "True\n",
      "40\n",
      "10\n",
      "20\n",
      "30\n"
     ]
    }
   ],
   "source": [
    "# Set\n",
    "my_set = {10, 20, 30, 40}\n",
    "\n",
    "# Membership check\n",
    "print(20 in my_set) \n",
    "\n",
    "# Iteration\n",
    "for element in my_set:\n",
    "    print(element)"
   ]
  },
  {
   "cell_type": "code",
   "execution_count": 9,
   "metadata": {},
   "outputs": [
    {
     "name": "stdout",
     "output_type": "stream",
     "text": [
      "20\n",
      "True\n",
      "Key: a, Value: 10\n",
      "Key: b, Value: 20\n",
      "Key: c, Value: 30\n"
     ]
    }
   ],
   "source": [
    "# Dictionary\n",
    "my_dict = {\"a\": 10, \"b\": 20, \"c\": 30}\n",
    "\n",
    "# Key-Based \n",
    "print(my_dict[\"b\"])\n",
    "\n",
    "# Membership check\n",
    "print(\"b\" in my_dict) \n",
    "\n",
    "# Iteration\n",
    "for key in my_dict:\n",
    "    print(f\"Key: {key}, Value: {my_dict[key]}\")"
   ]
  },
  {
   "cell_type": "markdown",
   "metadata": {},
   "source": [
    "Memory Comparison"
   ]
  },
  {
   "cell_type": "code",
   "execution_count": 12,
   "metadata": {},
   "outputs": [
    {
     "name": "stdout",
     "output_type": "stream",
     "text": [
      "Memory Usage:\n",
      "List: 8448728 bytes\n",
      "Tuple: 8000040 bytes\n",
      "Set: 33554648 bytes\n",
      "Dictionary: 41943136 bytes\n"
     ]
    }
   ],
   "source": [
    "import sys\n",
    "import timeit\n",
    "\n",
    "# Create example data\n",
    "data = [i for i in range(1_000_000)]  # Large data set for testing\n",
    "data_tuple = tuple(data)\n",
    "data_set = set(data)\n",
    "data_dict = {i: None for i in data}\n",
    "\n",
    "print(\"Memory Usage:\")\n",
    "print(f\"List: {sys.getsizeof(data)} bytes\")\n",
    "print(f\"Tuple: {sys.getsizeof(data_tuple)} bytes\")\n",
    "print(f\"Set: {sys.getsizeof(data_set)} bytes\")\n",
    "print(f\"Dictionary: {sys.getsizeof(data_dict)} bytes\")"
   ]
  },
  {
   "cell_type": "code",
   "execution_count": null,
   "metadata": {},
   "outputs": [],
   "source": [
    "# Observations\n",
    "# Lists - Dynamic - allocate extra memory - buffer for future additions - hecnce extra memory than tuples\n",
    "# Tuples - Immutable - no over allocations\n",
    "# Set - uses hash table internally - enforce ujniqueness - hence extra memory than list & tuple\n",
    "# Dict - Uses hash table - need to store both keys & vals - hence double memory"
   ]
  },
  {
   "cell_type": "markdown",
   "metadata": {},
   "source": [
    "Search Comparison"
   ]
  },
  {
   "cell_type": "code",
   "execution_count": 15,
   "metadata": {},
   "outputs": [
    {
     "name": "stdout",
     "output_type": "stream",
     "text": [
      "List: 4.686927042006573\n",
      "Tuple: 4.335466500000621\n",
      "Set: 2.5207998987752944e-05\n",
      "Dictionary: 2.9958006052765995e-05\n"
     ]
    }
   ],
   "source": [
    "\n",
    "list_time = timeit.timeit(\"999999 in data\", globals=globals(), number=1000)\n",
    "tuple_time = timeit.timeit(\"999999 in data_tuple\", globals=globals(), number=1000)\n",
    "set_time = timeit.timeit(\"999999 in data_set\", globals=globals(), number=1000)\n",
    "dict_time = timeit.timeit(\"999999 in data_dict\", globals=globals(), number=1000)\n",
    "\n",
    "print(f\"List: {list_time}\")\n",
    "print(f\"Tuple: {tuple_time}\")\n",
    "print(f\"Set: {set_time}\")\n",
    "print(f\"Dictionary: {dict_time}\")"
   ]
  },
  {
   "cell_type": "code",
   "execution_count": 14,
   "metadata": {},
   "outputs": [],
   "source": [
    "# Lists & Tuple - O(n)\n",
    "# Set & Dict - O(1)"
   ]
  },
  {
   "cell_type": "markdown",
   "metadata": {},
   "source": [
    "Addition Time"
   ]
  },
  {
   "cell_type": "code",
   "execution_count": null,
   "metadata": {},
   "outputs": [
    {
     "name": "stdout",
     "output_type": "stream",
     "text": [
      "List: 2.5290995836257935e-05\n",
      "Set: 2.2583997633773834e-05\n",
      "Dictionary: 1.5666002582293004e-05\n"
     ]
    }
   ],
   "source": [
    "list_add_time = timeit.timeit(\"data.append(1000000)\", setup=\"data = [i for i in range(1_000_000)]\", number=1000)\n",
    "set_add_time = timeit.timeit(\"data_set.add(1000000)\", setup=\"data_set = set(i for i in range(1_000_000))\", number=1000)\n",
    "dict_add_time = timeit.timeit(\"data_dict[1000000] = None\", setup=\"data_dict = {i: None for i in range(1_000_000)}\", number=1000)\n",
    "\n",
    "print(f\"List: {list_add_time}\")\n",
    "print(f\"Set: {set_add_time}\")\n",
    "print(f\"Dictionary: {dict_add_time}\")"
   ]
  },
  {
   "cell_type": "markdown",
   "metadata": {},
   "source": [
    "Deletion time"
   ]
  },
  {
   "cell_type": "code",
   "execution_count": 21,
   "metadata": {},
   "outputs": [
    {
     "name": "stdout",
     "output_type": "stream",
     "text": [
      "List: 0.07575524999992922\n",
      "Set: 0.03458137500274461\n",
      "Dictionary: 0.03127037500235019\n"
     ]
    }
   ],
   "source": [
    "list_del_time = timeit.timeit(\n",
    "    \"data = [i for i in range(1_000_000)]; data.remove(500000)\",\n",
    "    number=1\n",
    ")\n",
    "\n",
    "set_del_time = timeit.timeit(\n",
    "    \"data_set = set(i for i in range(1_000_000)); data_set.remove(500000)\",\n",
    "    number=1\n",
    ")\n",
    "\n",
    "dict_del_time = timeit.timeit(\n",
    "    \"data_dict = {i: None for i in range(1_000_000)}; del data_dict[500000]\",\n",
    "    number=1\n",
    ")\n",
    "\n",
    "print(f\"List: {list_del_time}\")\n",
    "print(f\"Set: {set_del_time}\")\n",
    "print(f\"Dictionary: {dict_del_time}\")"
   ]
  },
  {
   "cell_type": "code",
   "execution_count": null,
   "metadata": {},
   "outputs": [],
   "source": [
    "# Addition & Deletion\n",
    "# Lists - O(n)\n",
    "# Sets & Dict - O(1)"
   ]
  }
 ],
 "metadata": {
  "kernelspec": {
   "display_name": "Python 3",
   "language": "python",
   "name": "python3"
  },
  "language_info": {
   "codemirror_mode": {
    "name": "ipython",
    "version": 3
   },
   "file_extension": ".py",
   "mimetype": "text/x-python",
   "name": "python",
   "nbconvert_exporter": "python",
   "pygments_lexer": "ipython3",
   "version": "3.10.11"
  }
 },
 "nbformat": 4,
 "nbformat_minor": 2
}
