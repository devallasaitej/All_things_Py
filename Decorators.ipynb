{
 "cells": [
  {
   "cell_type": "markdown",
   "metadata": {},
   "source": [
    "# Decorators  \n",
    "Reference: https://www.linkedin.com/posts/akshay-pachaar_decorators-in-python-clearly-explained-activity-7270422987542003714-oFKm"
   ]
  },
  {
   "cell_type": "markdown",
   "metadata": {},
   "source": [
    "Decorators : Wrappers around functions : They're functions that take another function, add some functionality, and return the new \"decorated\" function. "
   ]
  },
  {
   "cell_type": "code",
   "execution_count": 2,
   "metadata": {},
   "outputs": [
    {
     "name": "stdout",
     "output_type": "stream",
     "text": [
      "Hey! Welcome to my Github, Sai!! This is about decorators in Python!\n"
     ]
    }
   ],
   "source": [
    "def greet(name) :\n",
    "    return f\"Hey! Welcome to my Github, {name}!!\"\n",
    "\n",
    "def msg(fun, name):\n",
    "    return fun(name) + ' This is about decorators in Python!'\n",
    "\n",
    "print(msg(greet,'Sai'))"
   ]
  },
  {
   "cell_type": "code",
   "execution_count": null,
   "metadata": {},
   "outputs": [
    {
     "name": "stdout",
     "output_type": "stream",
     "text": [
      "Before actual function call\n",
      "Hello World!\n",
      "After actual function call\n"
     ]
    }
   ],
   "source": [
    "def decorate(fun):\n",
    "    def wrapper():\n",
    "        print(\"Before actual function call\")\n",
    "        fun()\n",
    "        print(\"After actual function call\")\n",
    "    return wrapper\n",
    "\n",
    "def greet():\n",
    "    print(\"Hello World!\")\n",
    "\n",
    "greet = decorate(greet)\n",
    "greet()"
   ]
  },
  {
   "cell_type": "code",
   "execution_count": 4,
   "metadata": {},
   "outputs": [
    {
     "name": "stdout",
     "output_type": "stream",
     "text": [
      "Before function call\n",
      "Hello, world!\n",
      "After function call\n"
     ]
    }
   ],
   "source": [
    "def decorate(fun):\n",
    "    def wrapper():\n",
    "        print('Before function call')\n",
    "        fun()\n",
    "        print('After function call')\n",
    "    return wrapper\n",
    "\n",
    "@decorate\n",
    "def greet():\n",
    "    print(\"Hello, world!\")\n",
    "\n",
    "greet()"
   ]
  },
  {
   "cell_type": "code",
   "execution_count": 7,
   "metadata": {},
   "outputs": [
    {
     "name": "stdout",
     "output_type": "stream",
     "text": [
      "Before funcation call\n",
      "Hello, Sai!\n",
      "after function call\n"
     ]
    }
   ],
   "source": [
    "def decorate(fun):\n",
    "    # argument passed to funciton will nbe received by wrapper & then passed on to funciton again\n",
    "    def wrapper(arg):\n",
    "        print('Before funcation call')\n",
    "        fun(arg)\n",
    "        print('after function call')\n",
    "    return wrapper\n",
    "\n",
    "@decorate\n",
    "def greet(arg):\n",
    "    print(f\"Hello, {arg}!\")\n",
    "\n",
    "greet('Sai')"
   ]
  },
  {
   "cell_type": "markdown",
   "metadata": {},
   "source": [
    "Decorators are powerful and flexible. They can be used to:\n",
    "- log function calls\n",
    "- check funciton arguments\n",
    "- run code before and after functions \n",
    "They allow us to add functionality in a clean, consistent way"
   ]
  },
  {
   "cell_type": "code",
   "execution_count": 8,
   "metadata": {},
   "outputs": [
    {
     "name": "stderr",
     "output_type": "stream",
     "text": [
      "INFO:root:Executed fibonacci in 1.1920928955078125e-06 seconds\n",
      "INFO:root:Executed fibonacci in 0.0 seconds\n",
      "INFO:root:Executed fibonacci in 0.0015671253204345703 seconds\n"
     ]
    },
    {
     "name": "stdout",
     "output_type": "stream",
     "text": [
      "1\n"
     ]
    }
   ],
   "source": [
    "# A decorator that can log excution time of any function\n",
    "\n",
    "import time \n",
    "import logging\n",
    "logging.basicConfig(level=logging.INFO)\n",
    "\n",
    "def timer_decorator(func):\n",
    "    def wrapper(*args, **kwargs):\n",
    "        start_time = time.time()\n",
    "        result = func(*args, **kwargs)\n",
    "        end_time = time.time()\n",
    "        execution_time = end_time - start_time\n",
    "        logging.info(f\"Executed {func.__name__} in {execution_time} seconds\")\n",
    "        return result\n",
    "    return wrapper\n",
    "\n",
    "@timer_decorator\n",
    "def fibonacci(n):\n",
    "    if n <= 1:\n",
    "        return n\n",
    "    else:\n",
    "        return (fibonacci(n-1)+fibonacci(n-2))\n",
    "\n",
    "print(fibonacci(2))"
   ]
  }
 ],
 "metadata": {
  "kernelspec": {
   "display_name": "Python 3",
   "language": "python",
   "name": "python3"
  },
  "language_info": {
   "codemirror_mode": {
    "name": "ipython",
    "version": 3
   },
   "file_extension": ".py",
   "mimetype": "text/x-python",
   "name": "python",
   "nbconvert_exporter": "python",
   "pygments_lexer": "ipython3",
   "version": "3.10.11"
  }
 },
 "nbformat": 4,
 "nbformat_minor": 2
}
