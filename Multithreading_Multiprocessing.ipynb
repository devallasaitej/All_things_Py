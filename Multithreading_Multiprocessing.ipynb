{
 "cells": [
  {
   "cell_type": "code",
   "execution_count": null,
   "metadata": {},
   "outputs": [],
   "source": [
    "# Multithreading - To speed up I/O bound tasks - Allows a program to run multiple tasks concurrently within a single process\n",
    "# - Each task is executed in its own thread - Lightweight execution shares same memory space as other threads in process\n",
    "# Eg: Reads & writes from hard drive, APIs"
   ]
  },
  {
   "cell_type": "code",
   "execution_count": null,
   "metadata": {},
   "outputs": [],
   "source": [
    "# Multiprocessing - To Speed up CPU bound tasks - Allows program to run multiple tasks parallely - Each task in separate instance of program\n",
    "# - Takes advantage of multicore operating system - Exploits parallelism by running programs across multiple physical cores "
   ]
  },
  {
   "cell_type": "markdown",
   "metadata": {},
   "source": [
    "Multiprocessing Example"
   ]
  },
  {
   "cell_type": "code",
   "execution_count": null,
   "metadata": {},
   "outputs": [],
   "source": [
    "\n",
    "import multiprocessing\n",
    "import time\n",
    "\n",
    "NUMBER_OF_PROCESSES = 5\n",
    "NUMBER_OF_ITERATIONS = 5\n",
    "N = 100000000  # 100 million\n",
    "\n",
    "\n",
    "def sum_all_numbers(n):\n",
    "    \"\"\"\n",
    "    Sums all the numbers from zero to n.\n",
    "\n",
    "    :param n: The upper bound of numbers to be summed\n",
    "    :return: The sum of all the numbers from 0 to n\n",
    "    \"\"\"\n",
    "\n",
    "    total_sum = sum(range(n + 1))\n",
    "    return print(\"Sum: \" + str(total_sum))\n",
    "\n",
    "\n",
    "def without_multiprocessing():\n",
    "    print(\"Starting function without multiprocessing.\")\n",
    "    for i in range(NUMBER_OF_ITERATIONS):\n",
    "        sum_all_numbers(N)\n",
    "\n",
    "\n",
    "def with_multiprocessing():\n",
    "    print(\"Starting function with multiprocessing.\")\n",
    "    jobs = []\n",
    "\n",
    "    for i in range(NUMBER_OF_PROCESSES):\n",
    "        process = multiprocessing.Process(\n",
    "            target=sum_all_numbers,\n",
    "            args=(N,)\n",
    "        )\n",
    "        jobs.append(process)\n",
    "\n",
    "    for j in jobs:\n",
    "        j.start()\n",
    "\n",
    "    for j in jobs:\n",
    "        j.join()\n",
    "\n",
    "\n",
    "def main():\n",
    "    print(\"Summing all numbers between 0 and \" + str(N) + \".\\n\")\n",
    "\n",
    "    start_time = time.time()\n",
    "    without_multiprocessing()\n",
    "    print(\"--- Function without multiprocessing took %s seconds ---\\n\" % (\n",
    "            time.time() - start_time))\n",
    "\n",
    "    start_time = time.time()\n",
    "    with_multiprocessing()\n",
    "    print(\"--- Function with multiprocessing took %s seconds ---\" % (\n",
    "            time.time() - start_time))\n",
    "\n",
    "\n",
    "if __name__ == \"__main__\":\n",
    "    main()"
   ]
  },
  {
   "cell_type": "markdown",
   "metadata": {},
   "source": [
    "Using Pool API"
   ]
  },
  {
   "cell_type": "code",
   "execution_count": null,
   "metadata": {},
   "outputs": [],
   "source": [
    "from multiprocessing import Pool\n",
    "import time\n",
    "\n",
    "def with_multiprocessing():\n",
    "    print(\"Starting function with multiprocessing.\")\n",
    "    with Pool(NUMBER_OF_PROCESSES) as pool:\n",
    "        results = pool.map(sum_all_numbers, [N] * NUMBER_OF_PROCESSES)\n",
    "    return results"
   ]
  },
  {
   "cell_type": "markdown",
   "metadata": {},
   "source": [
    "Multithreading example"
   ]
  },
  {
   "cell_type": "code",
   "execution_count": 16,
   "metadata": {},
   "outputs": [
    {
     "name": "stdout",
     "output_type": "stream",
     "text": [
      "Downloading images from Internet.\n",
      "\n",
      "Starting function with multithreading.\n",
      "Starting Thread-183 (download_image)\n",
      "Starting Thread-184 (download_image)\n",
      "Starting Thread-185 (download_image)\n",
      "Starting Thread-186 (download_image)\n",
      "Starting Thread-187 (download_image)\n"
     ]
    },
    {
     "name": "stderr",
     "output_type": "stream",
     "text": [
      "/Library/Frameworks/Python.framework/Versions/3.10/lib/python3.10/site-packages/urllib3/connectionpool.py:1045: InsecureRequestWarning: Unverified HTTPS request is being made to host 'images.unsplash.com'. Adding certificate verification is strongly advised. See: https://urllib3.readthedocs.io/en/1.26.x/advanced-usage.html#ssl-warnings\n",
      "  warnings.warn(\n",
      "/Library/Frameworks/Python.framework/Versions/3.10/lib/python3.10/site-packages/urllib3/connectionpool.py:1045: InsecureRequestWarning: Unverified HTTPS request is being made to host 'images.unsplash.com'. Adding certificate verification is strongly advised. See: https://urllib3.readthedocs.io/en/1.26.x/advanced-usage.html#ssl-warnings\n",
      "  warnings.warn(\n",
      "/Library/Frameworks/Python.framework/Versions/3.10/lib/python3.10/site-packages/urllib3/connectionpool.py:1045: InsecureRequestWarning: Unverified HTTPS request is being made to host 'images.unsplash.com'. Adding certificate verification is strongly advised. See: https://urllib3.readthedocs.io/en/1.26.x/advanced-usage.html#ssl-warnings\n",
      "  warnings.warn(\n",
      "/Library/Frameworks/Python.framework/Versions/3.10/lib/python3.10/site-packages/urllib3/connectionpool.py:1045: InsecureRequestWarning: Unverified HTTPS request is being made to host 'images.unsplash.com'. Adding certificate verification is strongly advised. See: https://urllib3.readthedocs.io/en/1.26.x/advanced-usage.html#ssl-warnings\n",
      "  warnings.warn(\n",
      "/Library/Frameworks/Python.framework/Versions/3.10/lib/python3.10/site-packages/urllib3/connectionpool.py:1045: InsecureRequestWarning: Unverified HTTPS request is being made to host 'images.unsplash.com'. Adding certificate verification is strongly advised. See: https://urllib3.readthedocs.io/en/1.26.x/advanced-usage.html#ssl-warnings\n",
      "  warnings.warn(\n"
     ]
    },
    {
     "name": "stdout",
     "output_type": "stream",
     "text": [
      "Image downloaded: with_multithreading_photos/photo-1541447271487-09612b3f49f7.jpg\n",
      "Image downloaded: with_multithreading_photos/photo-1522069365959-25716fb5001a.jpg\n",
      "Image downloaded: with_multithreading_photos/photo-1560840067-ddcaeb7831d2.jpg\n",
      "Image downloaded: with_multithreading_photos/photo-1428366890462-dd4baecf492b.jpg\n",
      "Image downloaded: with_multithreading_photos/photo-1533752125192-ae59c3f8c403.jpg\n",
      "--- Function with multithreading took 0.5719869136810303 seconds ---\n",
      "\n",
      "Starting function without multithreading or multiprocessing.\n"
     ]
    },
    {
     "name": "stderr",
     "output_type": "stream",
     "text": [
      "/Library/Frameworks/Python.framework/Versions/3.10/lib/python3.10/site-packages/urllib3/connectionpool.py:1045: InsecureRequestWarning: Unverified HTTPS request is being made to host 'images.unsplash.com'. Adding certificate verification is strongly advised. See: https://urllib3.readthedocs.io/en/1.26.x/advanced-usage.html#ssl-warnings\n",
      "  warnings.warn(\n"
     ]
    },
    {
     "name": "stdout",
     "output_type": "stream",
     "text": [
      "Image downloaded.\n"
     ]
    },
    {
     "name": "stderr",
     "output_type": "stream",
     "text": [
      "/Library/Frameworks/Python.framework/Versions/3.10/lib/python3.10/site-packages/urllib3/connectionpool.py:1045: InsecureRequestWarning: Unverified HTTPS request is being made to host 'images.unsplash.com'. Adding certificate verification is strongly advised. See: https://urllib3.readthedocs.io/en/1.26.x/advanced-usage.html#ssl-warnings\n",
      "  warnings.warn(\n"
     ]
    },
    {
     "name": "stdout",
     "output_type": "stream",
     "text": [
      "Image downloaded.\n"
     ]
    },
    {
     "name": "stderr",
     "output_type": "stream",
     "text": [
      "/Library/Frameworks/Python.framework/Versions/3.10/lib/python3.10/site-packages/urllib3/connectionpool.py:1045: InsecureRequestWarning: Unverified HTTPS request is being made to host 'images.unsplash.com'. Adding certificate verification is strongly advised. See: https://urllib3.readthedocs.io/en/1.26.x/advanced-usage.html#ssl-warnings\n",
      "  warnings.warn(\n"
     ]
    },
    {
     "name": "stdout",
     "output_type": "stream",
     "text": [
      "Image downloaded.\n"
     ]
    },
    {
     "name": "stderr",
     "output_type": "stream",
     "text": [
      "/Library/Frameworks/Python.framework/Versions/3.10/lib/python3.10/site-packages/urllib3/connectionpool.py:1045: InsecureRequestWarning: Unverified HTTPS request is being made to host 'images.unsplash.com'. Adding certificate verification is strongly advised. See: https://urllib3.readthedocs.io/en/1.26.x/advanced-usage.html#ssl-warnings\n",
      "  warnings.warn(\n"
     ]
    },
    {
     "name": "stdout",
     "output_type": "stream",
     "text": [
      "Image downloaded.\n",
      "Image downloaded.\n",
      "--- Function without multithreading took 1.2029929161071777 seconds ---\n",
      "\n"
     ]
    },
    {
     "name": "stderr",
     "output_type": "stream",
     "text": [
      "/Library/Frameworks/Python.framework/Versions/3.10/lib/python3.10/site-packages/urllib3/connectionpool.py:1045: InsecureRequestWarning: Unverified HTTPS request is being made to host 'images.unsplash.com'. Adding certificate verification is strongly advised. See: https://urllib3.readthedocs.io/en/1.26.x/advanced-usage.html#ssl-warnings\n",
      "  warnings.warn(\n"
     ]
    }
   ],
   "source": [
    "import time\n",
    "from queue import Queue\n",
    "from threading import Thread\n",
    "import os\n",
    "\n",
    "import requests\n",
    "\n",
    "NUMBER_OF_THREADS = 5\n",
    "q = Queue()\n",
    "\n",
    "\n",
    "def download_image(download_location):\n",
    "    \"\"\"\n",
    "    Download image from image_url.\n",
    "    \"\"\"\n",
    "    global q\n",
    "\n",
    "    # Ensure the directory exists\n",
    "    full_path = f\"{download_location}\"\n",
    "    os.makedirs(full_path, exist_ok=True)\n",
    "\n",
    "    while True:\n",
    "        image_url = q.get()\n",
    "        res = requests.get(image_url, stream=True, verify=False)\n",
    "        filename = f\"{full_path}/{image_url.split('/')[-1]}.jpg\"\n",
    "\n",
    "        with open(filename, 'wb') as f:\n",
    "            for block in res.iter_content(1024):\n",
    "                f.write(block)\n",
    "\n",
    "        print(f\"Image downloaded: {filename}\")\n",
    "        q.task_done()\n",
    "\n",
    "\n",
    "def download_images_with_multithreading(images):\n",
    "    print(\"Starting function with multithreading.\")\n",
    "    for image_url in images:\n",
    "        q.put(image_url)\n",
    "\n",
    "    for t in range(NUMBER_OF_THREADS):\n",
    "        worker = Thread(target=download_image, args=(\n",
    "            \"with_multithreading_photos\",))\n",
    "        worker.daemon = True\n",
    "        print(\"Starting \" + worker.name)\n",
    "        worker.start()\n",
    "\n",
    "    q.join()\n",
    "\n",
    "\n",
    "def download_images_without_multithreading(images):\n",
    "    print(\"Starting function without multithreading or multiprocessing.\")\n",
    "    for image_url in images:\n",
    "        res = requests.get(image_url, stream=True, verify=False)\n",
    "\n",
    "        filename = f\"without_multithreading_photos/\" \\\n",
    "                   f\"{image_url.split('/')[-1]}.jpg\"\n",
    "\n",
    "        with open(filename, 'wb') as f:\n",
    "            for block in res.iter_content(1024):\n",
    "                f.write(block)\n",
    "\n",
    "        print(\"Image downloaded.\")\n",
    "\n",
    "\n",
    "def main():\n",
    "    images = [\n",
    "        'https://images.unsplash.com/photo-1428366890462-dd4baecf492b',\n",
    "        'https://images.unsplash.com/photo-1541447271487-09612b3f49f7',\n",
    "        'https://images.unsplash.com/photo-1560840067-ddcaeb7831d2',\n",
    "        'https://images.unsplash.com/photo-1522069365959-25716fb5001a',\n",
    "        'https://images.unsplash.com/photo-1533752125192-ae59c3f8c403',\n",
    "    ]\n",
    "\n",
    "    print(\"Downloading images from Internet.\\n\")\n",
    "\n",
    "    start_time = time.time()\n",
    "    download_images_with_multithreading(images)\n",
    "    print(\"--- Function with multithreading took %s seconds ---\\n\" % (\n",
    "            time.time() - start_time))\n",
    "\n",
    "    start_time = time.time()\n",
    "    download_images_without_multithreading(images)\n",
    "    print(\"--- Function without multithreading took %s seconds ---\\n\" % (\n",
    "            time.time() - start_time))\n",
    "\n",
    "\n",
    "if __name__ == \"__main__\":\n",
    "    main()"
   ]
  },
  {
   "cell_type": "code",
   "execution_count": null,
   "metadata": {},
   "outputs": [],
   "source": []
  }
 ],
 "metadata": {
  "kernelspec": {
   "display_name": "Python 3",
   "language": "python",
   "name": "python3"
  },
  "language_info": {
   "codemirror_mode": {
    "name": "ipython",
    "version": 3
   },
   "file_extension": ".py",
   "mimetype": "text/x-python",
   "name": "python",
   "nbconvert_exporter": "python",
   "pygments_lexer": "ipython3",
   "version": "3.10.11"
  }
 },
 "nbformat": 4,
 "nbformat_minor": 2
}
