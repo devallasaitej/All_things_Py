{
 "cells": [
  {
   "cell_type": "markdown",
   "metadata": {},
   "source": [
    "OOP"
   ]
  },
  {
   "cell_type": "code",
   "execution_count": 1,
   "metadata": {},
   "outputs": [
    {
     "name": "stdout",
     "output_type": "stream",
     "text": [
      "i5, 16GB, 1 TB\n"
     ]
    }
   ],
   "source": [
    "class computer:\n",
    "\n",
    "    def config(self):\n",
    "        print(\"i5, 16GB, 1 TB\")\n",
    "\n",
    "\n",
    "comp1 = computer()\n",
    "comp1.config()"
   ]
  },
  {
   "cell_type": "code",
   "execution_count": 3,
   "metadata": {},
   "outputs": [
    {
     "data": {
      "text/plain": [
       "3"
      ]
     },
     "execution_count": 3,
     "metadata": {},
     "output_type": "execute_result"
    }
   ],
   "source": [
    "a = 5\n",
    "a.bit_length()"
   ]
  },
  {
   "cell_type": "markdown",
   "metadata": {},
   "source": [
    "Self is not a keyword. Its just a convention. can use any other word in place of self."
   ]
  },
  {
   "cell_type": "code",
   "execution_count": 40,
   "metadata": {},
   "outputs": [
    {
     "name": "stdout",
     "output_type": "stream",
     "text": [
      "This works too!\n"
     ]
    }
   ],
   "source": [
    "class Test:\n",
    "    def example(anything):\n",
    "        print(\"This works too!\")\n",
    "\n",
    "t = Test()\n",
    "t.example()  # Prints: \"This works too!\"\n"
   ]
  },
  {
   "cell_type": "markdown",
   "metadata": {},
   "source": [
    "__init__ method"
   ]
  },
  {
   "cell_type": "code",
   "execution_count": 4,
   "metadata": {},
   "outputs": [
    {
     "name": "stdout",
     "output_type": "stream",
     "text": [
      "config is : i5 32GB\n"
     ]
    }
   ],
   "source": [
    "class computer:\n",
    "\n",
    "    def __init__(self, cpu, ram):\n",
    "        self.cpu = cpu\n",
    "        self.ram = ram\n",
    "    \n",
    "    def config(self):\n",
    "        print(\"config is :\",self.cpu,self.ram)\n",
    "\n",
    "\n",
    "comp1 = computer(\"i5\",\"32GB\")\n",
    "comp1.config()"
   ]
  },
  {
   "cell_type": "markdown",
   "metadata": {},
   "source": [
    "The __init__ method in Python is a special method (also called a dunder method, short for \"double underscore\") that initializes a newly created object of a class. It acts as the constructor of the class, allowing you to set up the object by assigning initial values to its attributes or performing any setup that the object needs when it is created.\n",
    "It doesn’t create the object (that’s handled by __new__); it simply initializes it."
   ]
  },
  {
   "cell_type": "code",
   "execution_count": 6,
   "metadata": {},
   "outputs": [
    {
     "name": "stdout",
     "output_type": "stream",
     "text": [
      "32GB\n",
      "64GB\n"
     ]
    }
   ],
   "source": [
    "class computer:\n",
    "\n",
    "    def __init__(self, cpu, ram):\n",
    "        self.cpu = cpu\n",
    "        self.ram = ram\n",
    "    \n",
    "    def update(self):\n",
    "        self.ram = '64GB'\n",
    "\n",
    "\n",
    "comp1 = computer(\"i5\",\"32GB\")\n",
    "print(comp1.ram)\n",
    "comp1.update()\n",
    "print(comp1.ram)"
   ]
  },
  {
   "cell_type": "code",
   "execution_count": 1,
   "metadata": {},
   "outputs": [
    {
     "name": "stdout",
     "output_type": "stream",
     "text": [
      "BMW 8 4\n",
      "BMW 10 4\n"
     ]
    }
   ],
   "source": [
    "class car:\n",
    "\n",
    "    # class namespace variable\n",
    "    wheels = 4\n",
    "\n",
    "    def __init__(self):\n",
    "\n",
    "        # instance namespace variables\n",
    "        self.mil = 10\n",
    "        self.name = 'BMW'\n",
    "\n",
    "c1 = car()\n",
    "c2 = car()\n",
    "\n",
    "c1.mil = 8\n",
    "\n",
    "print(c1.name, c1.mil, c1.wheels)\n",
    "print(c2.name, c2.mil, c2.wheels)"
   ]
  },
  {
   "cell_type": "code",
   "execution_count": 2,
   "metadata": {},
   "outputs": [
    {
     "name": "stdout",
     "output_type": "stream",
     "text": [
      "BMW 8 6\n",
      "BMW 10 4\n"
     ]
    }
   ],
   "source": [
    "c1.wheels = 6\n",
    "print(c1.name, c1.mil, c1.wheels)\n",
    "print(c2.name, c2.mil, c2.wheels)"
   ]
  },
  {
   "cell_type": "code",
   "execution_count": 11,
   "metadata": {},
   "outputs": [
    {
     "name": "stdout",
     "output_type": "stream",
     "text": [
      "BMW 8 6\n",
      "BMW 10 6\n"
     ]
    }
   ],
   "source": [
    "car.wheels = 6\n",
    "\n",
    "print(c1.name, c1.mil, c1.wheels)\n",
    "print(c2.name, c2.mil, c2.wheels)"
   ]
  },
  {
   "cell_type": "code",
   "execution_count": null,
   "metadata": {},
   "outputs": [],
   "source": [
    "# Methods\n",
    "    # Instance\n",
    "    # Class\n",
    "    # Static"
   ]
  },
  {
   "cell_type": "code",
   "execution_count": null,
   "metadata": {},
   "outputs": [
    {
     "name": "stdout",
     "output_type": "stream",
     "text": [
      "Employee Name: Sai, Salary: 75000\n"
     ]
    }
   ],
   "source": [
    "# Instance Method\n",
    "class Employee:\n",
    "    def __init__(self, name, salary):\n",
    "        self.name = name  # Instance variable\n",
    "        self.salary = salary  # Instance variable\n",
    "\n",
    "    def display_details(self):  # Instance method\n",
    "        return f\"Employee Name: {self.name}, Salary: {self.salary}\"\n",
    "\n",
    "# Create an instance\n",
    "emp = Employee(\"Sai\", 75000)\n",
    "print(emp.display_details())  # Calls the instance method"
   ]
  },
  {
   "cell_type": "code",
   "execution_count": null,
   "metadata": {},
   "outputs": [],
   "source": [
    "# Instance : Methods that work with the specific instance of a class. They take self as their first parameter, which refers to the instance calling the method.\n",
    "# Used to access or modify object attributes and implement object-specific behavior.\n"
   ]
  },
  {
   "cell_type": "code",
   "execution_count": null,
   "metadata": {},
   "outputs": [
    {
     "name": "stdout",
     "output_type": "stream",
     "text": [
      "TechCorp\n",
      "DataWorks\n"
     ]
    }
   ],
   "source": [
    "# Class Method\n",
    "class Employee:\n",
    "    \n",
    "    company_name = \"TechCorp\"  # Class variable\n",
    "\n",
    "    def __init__(self, name, salary):\n",
    "        self.name = name\n",
    "        self.salary = salary\n",
    "\n",
    "    @classmethod\n",
    "    def change_company_name(cls, new_name):\n",
    "        cls.company_name = new_name  # Modifies the class variable\n",
    "\n",
    "# Access class method\n",
    "print(Employee.company_name)  # Before change\n",
    "Employee.change_company_name(\"DataWorks\")  # Change class variable\n",
    "print(Employee.company_name)  # After change\n"
   ]
  },
  {
   "cell_type": "code",
   "execution_count": null,
   "metadata": {},
   "outputs": [],
   "source": [
    "# Class: Methods that are bound to the class, not the instance. They take cls as their first parameter, which refers to the class itself.\n",
    "# Used for operations related to the class, such as modifying class variables or creating alternative constructors."
   ]
  },
  {
   "cell_type": "code",
   "execution_count": null,
   "metadata": {},
   "outputs": [
    {
     "name": "stdout",
     "output_type": "stream",
     "text": [
      "True\n",
      "False\n"
     ]
    }
   ],
   "source": [
    "# Static Method\n",
    "class Employee:\n",
    "    @staticmethod\n",
    "    def is_valid_salary(salary):\n",
    "        return salary > 0\n",
    "\n",
    "# Validate salary\n",
    "print(Employee.is_valid_salary(50000))\n",
    "print(Employee.is_valid_salary(-500)) "
   ]
  },
  {
   "cell_type": "code",
   "execution_count": null,
   "metadata": {},
   "outputs": [],
   "source": [
    "# Static: Methods that don’t operate on an instance or class; they behave like plain functions within the class. They don’t take self or cls as a parameter.\n",
    "# Used for utility functions that are logically related to the class but don’t need access to class or instance variables."
   ]
  },
  {
   "cell_type": "code",
   "execution_count": 18,
   "metadata": {},
   "outputs": [
    {
     "name": "stdout",
     "output_type": "stream",
     "text": [
      "148.0\n",
      "56\n",
      "None\n",
      "25\n",
      "GOS\n"
     ]
    }
   ],
   "source": [
    "class student:\n",
    "\n",
    "    school = \"GOS\"\n",
    "\n",
    "    def __init__(self,m1,m2,m3):\n",
    "        self.m1 = m1\n",
    "        self.m2 = m2\n",
    "        self.m3 = m3\n",
    "    \n",
    "    def avg(self):\n",
    "        return (self.m1+self.m2+self.m3)/3\n",
    "\n",
    "    def get_m1(self):\n",
    "        return self.m1\n",
    "    \n",
    "    def set_m1(self,value):\n",
    "        self.m1=value\n",
    "\n",
    "    @classmethod\n",
    "    def getSchool(cls):\n",
    "        return cls.school\n",
    "\n",
    "s1 = student(56, 343,45)\n",
    "s2 = student(526, 343,145)\n",
    "\n",
    "print(s1.avg())\n",
    "print(s1.get_m1())\n",
    "print(s1.set_m1(25))\n",
    "print(s1.get_m1())\n",
    "print(student.getSchool())"
   ]
  },
  {
   "cell_type": "markdown",
   "metadata": {},
   "source": [
    "Inner class"
   ]
  },
  {
   "cell_type": "code",
   "execution_count": 22,
   "metadata": {},
   "outputs": [
    {
     "name": "stdout",
     "output_type": "stream",
     "text": [
      "AA 2\n",
      "Air M2 16\n"
     ]
    }
   ],
   "source": [
    "class student:\n",
    "\n",
    "    def __init__(self,name, rollno):\n",
    "        self.name = name \n",
    "        self.rollno = rollno\n",
    "        self.lap = self.Laptop()\n",
    "\n",
    "    def show(self):\n",
    "        print(self.name, self.rollno)\n",
    "        self.lap.show()\n",
    "\n",
    "    class Laptop:\n",
    "\n",
    "        def __init__(self):\n",
    "            self.brand = 'Air'\n",
    "            self.CPU = 'M2'\n",
    "            self.ram = 16\n",
    "\n",
    "        def show(self):\n",
    "            print(self.brand, self.CPU, self.ram)\n",
    "\n",
    "\n",
    "s1 = student('AA',2)\n",
    "s1.show()"
   ]
  },
  {
   "cell_type": "markdown",
   "metadata": {},
   "source": [
    "Inheritance"
   ]
  },
  {
   "cell_type": "code",
   "execution_count": 35,
   "metadata": {},
   "outputs": [
    {
     "name": "stdout",
     "output_type": "stream",
     "text": [
      "In A init\n",
      "Feature 1 working\n",
      "Feature 2 working\n"
     ]
    }
   ],
   "source": [
    "class A:\n",
    "\n",
    "    def __init__(self):\n",
    "        print(\"In A init\")\n",
    "\n",
    "    def feature1(self):\n",
    "        print(\"Feature 1 working\")\n",
    "\n",
    "    def feature2(self):\n",
    "        print(\"Feature 2 working\")\n",
    "\n",
    "# Inheriting attributes of A\n",
    "class B(A):\n",
    "\n",
    "    def __init__(self):\n",
    "        super().__init__()\n",
    "        print(\"In B init\")\n",
    "        \n",
    "    def feature3(self):\n",
    "        print(\"Feature 3 working\")\n",
    "\n",
    "    def feature4(self):\n",
    "        print(\"Feature 4 working\")\n",
    "\n",
    "\n",
    "a1 = A()\n",
    "\n",
    "a1.feature1()\n",
    "a1.feature2()"
   ]
  },
  {
   "cell_type": "code",
   "execution_count": 29,
   "metadata": {},
   "outputs": [
    {
     "name": "stdout",
     "output_type": "stream",
     "text": [
      "In B init\n",
      "Feature 3 working\n",
      "Feature 4 working\n",
      "Feature 1 working\n",
      "Feature 2 working\n"
     ]
    }
   ],
   "source": [
    "b1 = B()\n",
    "b1.feature3()\n",
    "b1.feature4()\n",
    "b1.feature1()\n",
    "b1.feature2()"
   ]
  },
  {
   "cell_type": "code",
   "execution_count": 36,
   "metadata": {},
   "outputs": [
    {
     "name": "stdout",
     "output_type": "stream",
     "text": [
      "In A init\n",
      "In B init\n",
      "In C init\n"
     ]
    }
   ],
   "source": [
    "# Inheriting attributes of A,B - Multiple inheritance\n",
    "class C(B,A):\n",
    "\n",
    "    def __init__(self):\n",
    "        super().__init__()\n",
    "        print(\"In C init\")\n",
    "\n",
    "    def feature5(self):\n",
    "        print(\"Feature 5 working\")\n",
    "\n",
    "c1 = C()"
   ]
  },
  {
   "cell_type": "code",
   "execution_count": 34,
   "metadata": {},
   "outputs": [
    {
     "name": "stdout",
     "output_type": "stream",
     "text": [
      "[<class '__main__.C'>, <class '__main__.B'>, <class '__main__.A'>, <class 'object'>]\n"
     ]
    }
   ],
   "source": [
    "print(C.mro())"
   ]
  },
  {
   "cell_type": "markdown",
   "metadata": {},
   "source": [
    "How Super Works"
   ]
  },
  {
   "cell_type": "code",
   "execution_count": null,
   "metadata": {},
   "outputs": [],
   "source": [
    "# When super().__init__() is called in C's __init__, it looks at the next class in the MRO after C, which is B, and calls B.__init__().\n",
    "# Inside B.__init__(), another super().__init__() is called, so it looks at the next class after B, which is A, and calls A.__init__().\n",
    "# After A.__init__() completes, control returns back to B.__init__(), and then to C.__init__().\n",
    "# Works Beyond __init__: You can use super() to call methods other than __init__. For example:\n",
    "class A:\n",
    "    def feature(self):\n",
    "        print(\"Feature in A\")\n",
    "\n",
    "class B(A):\n",
    "    def feature(self):\n",
    "        super().feature()\n",
    "        print(\"Feature in B\")"
   ]
  },
  {
   "cell_type": "code",
   "execution_count": null,
   "metadata": {},
   "outputs": [],
   "source": [
    "# Duck Typing: a feature of Python's dynamic typing system. It is based on the principle:\n",
    "# \"If it looks like a duck, swims like a duck, and quacks like a duck, it is a duck.\"\n",
    "# In Python, the type of an object is less important than the methods and properties it supports. This allows you to write flexible and reusable code.\n",
    "\n",
    "# Key Points:\n",
    "# Python does not require explicit type declarations.\n",
    "# You don’t check the type of an object; instead, you rely on its behavior (methods or attributes).\n",
    "# This enables polymorphism without requiring inheritance."
   ]
  },
  {
   "cell_type": "code",
   "execution_count": 41,
   "metadata": {},
   "outputs": [
    {
     "name": "stdout",
     "output_type": "stream",
     "text": [
      "Quack, quack!\n",
      "I pretend to quack like a duck!\n"
     ]
    }
   ],
   "source": [
    "class Duck:\n",
    "    def quack(self):\n",
    "        print(\"Quack, quack!\")\n",
    "\n",
    "class Dog:\n",
    "    def quack(self):\n",
    "        print(\"I pretend to quack like a duck!\")\n",
    "\n",
    "# A function that accepts any object that has a 'quack' method\n",
    "def make_quack(animal):\n",
    "    animal.quack()\n",
    "\n",
    "duck = Duck()\n",
    "dog = Dog()\n",
    "\n",
    "make_quack(duck)  # Quack, quack!\n",
    "make_quack(dog)   # I pretend to quack like a duck!"
   ]
  },
  {
   "cell_type": "code",
   "execution_count": null,
   "metadata": {},
   "outputs": [],
   "source": [
    "# Method Overloading allows multiple methods in the same class to have the same name but different arguments. However, Python does not support method overloading in the traditional sense like Java or C++.\n",
    "# Instead, Python allows default arguments or arbitrary arguments to simulate method overloading."
   ]
  },
  {
   "cell_type": "code",
   "execution_count": 42,
   "metadata": {},
   "outputs": [
    {
     "name": "stdout",
     "output_type": "stream",
     "text": [
      "5\n",
      "15\n",
      "10\n"
     ]
    }
   ],
   "source": [
    "class Calculator:\n",
    "    def add(self, *args):  # Accepts any number of arguments\n",
    "        return sum(args)\n",
    "\n",
    "calc = Calculator()\n",
    "print(calc.add(5))          # 5\n",
    "print(calc.add(5, 10))      # 15\n",
    "print(calc.add(1, 2, 3, 4)) # 10"
   ]
  }
 ],
 "metadata": {
  "kernelspec": {
   "display_name": "Python 3",
   "language": "python",
   "name": "python3"
  },
  "language_info": {
   "codemirror_mode": {
    "name": "ipython",
    "version": 3
   },
   "file_extension": ".py",
   "mimetype": "text/x-python",
   "name": "python",
   "nbconvert_exporter": "python",
   "pygments_lexer": "ipython3",
   "version": "3.10.11"
  }
 },
 "nbformat": 4,
 "nbformat_minor": 2
}
